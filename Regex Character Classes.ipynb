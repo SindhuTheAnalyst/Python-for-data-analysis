{
 "cells": [
  {
   "cell_type": "code",
   "execution_count": 3,
   "id": "f43fda41",
   "metadata": {},
   "outputs": [],
   "source": [
    "import re"
   ]
  },
  {
   "cell_type": "code",
   "execution_count": 4,
   "id": "a7857d73",
   "metadata": {},
   "outputs": [],
   "source": [
    "quote = 'My name is Neo. My phone number is 534-342-1234. My email is TheMatrixMan@gmail.com'"
   ]
  },
  {
   "cell_type": "code",
   "execution_count": 6,
   "id": "86fa9377",
   "metadata": {},
   "outputs": [
    {
     "data": {
      "text/plain": [
       "['534', '342', '123']"
      ]
     },
     "execution_count": 6,
     "metadata": {},
     "output_type": "execute_result"
    }
   ],
   "source": [
    "re.findall('\\d{3}',quote)"
   ]
  },
  {
   "cell_type": "code",
   "execution_count": 8,
   "id": "405956e5",
   "metadata": {},
   "outputs": [
    {
     "data": {
      "text/plain": [
       "['342', '123']"
      ]
     },
     "execution_count": 8,
     "metadata": {},
     "output_type": "execute_result"
    }
   ],
   "source": [
    "re.findall('[0-4]{3}',quote)"
   ]
  },
  {
   "cell_type": "code",
   "execution_count": 9,
   "id": "57649ea2",
   "metadata": {},
   "outputs": [
    {
     "data": {
      "text/plain": [
       "['M',\n",
       " 'y',\n",
       " ' ',\n",
       " 'n',\n",
       " 'a',\n",
       " 'm',\n",
       " 'e',\n",
       " ' ',\n",
       " 'i',\n",
       " 's',\n",
       " ' ',\n",
       " 'N',\n",
       " 'e',\n",
       " 'o',\n",
       " '.',\n",
       " ' ',\n",
       " 'M',\n",
       " 'y',\n",
       " ' ',\n",
       " 'p',\n",
       " 'h',\n",
       " 'o',\n",
       " 'n',\n",
       " 'e',\n",
       " ' ',\n",
       " 'n',\n",
       " 'u',\n",
       " 'm',\n",
       " 'b',\n",
       " 'e',\n",
       " 'r',\n",
       " ' ',\n",
       " 'i',\n",
       " 's',\n",
       " ' ',\n",
       " '-',\n",
       " '-',\n",
       " '.',\n",
       " ' ',\n",
       " 'M',\n",
       " 'y',\n",
       " ' ',\n",
       " 'e',\n",
       " 'm',\n",
       " 'a',\n",
       " 'i',\n",
       " 'l',\n",
       " ' ',\n",
       " 'i',\n",
       " 's',\n",
       " ' ',\n",
       " 'T',\n",
       " 'h',\n",
       " 'e',\n",
       " 'M',\n",
       " 'a',\n",
       " 't',\n",
       " 'r',\n",
       " 'i',\n",
       " 'x',\n",
       " 'M',\n",
       " 'a',\n",
       " 'n',\n",
       " '@',\n",
       " 'g',\n",
       " 'm',\n",
       " 'a',\n",
       " 'i',\n",
       " 'l',\n",
       " '.',\n",
       " 'c',\n",
       " 'o',\n",
       " 'm']"
      ]
     },
     "execution_count": 9,
     "metadata": {},
     "output_type": "execute_result"
    }
   ],
   "source": [
    "re.findall('\\D',quote)"
   ]
  },
  {
   "cell_type": "code",
   "execution_count": null,
   "id": "3a0324bd",
   "metadata": {},
   "outputs": [],
   "source": [
    "quote = 'My name is Neo. My phone number is 534-342-1234. My email is TheMatrixMan@gmail.com'"
   ]
  },
  {
   "cell_type": "code",
   "execution_count": 13,
   "id": "9277e9ef",
   "metadata": {},
   "outputs": [
    {
     "data": {
      "text/plain": [
       "[' ',\n",
       " ' ',\n",
       " ' ',\n",
       " '.',\n",
       " ' ',\n",
       " ' ',\n",
       " ' ',\n",
       " ' ',\n",
       " ' ',\n",
       " '-',\n",
       " '-',\n",
       " '.',\n",
       " ' ',\n",
       " ' ',\n",
       " ' ',\n",
       " ' ',\n",
       " '@',\n",
       " '.']"
      ]
     },
     "execution_count": 13,
     "metadata": {},
     "output_type": "execute_result"
    }
   ],
   "source": [
    "# \\w\n",
    "\n",
    "re.findall('\\W',quote)"
   ]
  },
  {
   "cell_type": "code",
   "execution_count": null,
   "id": "aceed204",
   "metadata": {},
   "outputs": [],
   "source": [
    "quote = 'My name is Neo. My phone number is 534-342-1234. My email is TheMatrixMan@gmail.com'"
   ]
  },
  {
   "cell_type": "code",
   "execution_count": 15,
   "id": "eea892b0",
   "metadata": {},
   "outputs": [
    {
     "data": {
      "text/plain": [
       "['M',\n",
       " 'y',\n",
       " 'n',\n",
       " 'a',\n",
       " 'm',\n",
       " 'e',\n",
       " 'i',\n",
       " 's',\n",
       " 'N',\n",
       " 'e',\n",
       " 'o',\n",
       " '.',\n",
       " 'M',\n",
       " 'y',\n",
       " 'p',\n",
       " 'h',\n",
       " 'o',\n",
       " 'n',\n",
       " 'e',\n",
       " 'n',\n",
       " 'u',\n",
       " 'm',\n",
       " 'b',\n",
       " 'e',\n",
       " 'r',\n",
       " 'i',\n",
       " 's',\n",
       " '5',\n",
       " '3',\n",
       " '4',\n",
       " '-',\n",
       " '3',\n",
       " '4',\n",
       " '2',\n",
       " '-',\n",
       " '1',\n",
       " '2',\n",
       " '3',\n",
       " '4',\n",
       " '.',\n",
       " 'M',\n",
       " 'y',\n",
       " 'e',\n",
       " 'm',\n",
       " 'a',\n",
       " 'i',\n",
       " 'l',\n",
       " 'i',\n",
       " 's',\n",
       " 'T',\n",
       " 'h',\n",
       " 'e',\n",
       " 'M',\n",
       " 'a',\n",
       " 't',\n",
       " 'r',\n",
       " 'i',\n",
       " 'x',\n",
       " 'M',\n",
       " 'a',\n",
       " 'n',\n",
       " '@',\n",
       " 'g',\n",
       " 'm',\n",
       " 'a',\n",
       " 'i',\n",
       " 'l',\n",
       " '.',\n",
       " 'c',\n",
       " 'o',\n",
       " 'm']"
      ]
     },
     "execution_count": 15,
     "metadata": {},
     "output_type": "execute_result"
    }
   ],
   "source": [
    "# \\s\n",
    "\n",
    "re.findall('\\S',quote)"
   ]
  },
  {
   "cell_type": "code",
   "execution_count": null,
   "id": "493d9c7b",
   "metadata": {},
   "outputs": [],
   "source": [
    "quote = 'My name is Neo. My phone number is 534-342-1234. My email is TheMatrixMan@gmail.com'"
   ]
  },
  {
   "cell_type": "code",
   "execution_count": 20,
   "id": "4cb165e9",
   "metadata": {},
   "outputs": [
    {
     "data": {
      "text/plain": [
       "['m']"
      ]
     },
     "execution_count": 20,
     "metadata": {},
     "output_type": "execute_result"
    }
   ],
   "source": [
    "# \\A \\Z\n",
    "\n",
    "re.findall('[A-Za-z]$',quote)"
   ]
  },
  {
   "cell_type": "code",
   "execution_count": 24,
   "id": "a70a5991",
   "metadata": {},
   "outputs": [
    {
     "data": {
      "text/plain": [
       "['Matrix', 'Matrix']"
      ]
     },
     "execution_count": 24,
     "metadata": {},
     "output_type": "execute_result"
    }
   ],
   "source": [
    "quote = 'I love the Matrix is MatrixLove a word?'\n",
    "\n",
    "re.findall(r'\\bMatrix',quote)"
   ]
  },
  {
   "cell_type": "code",
   "execution_count": 26,
   "id": "83802d14",
   "metadata": {},
   "outputs": [
    {
     "data": {
      "text/plain": [
       "['atrix', 'atrix']"
      ]
     },
     "execution_count": 26,
     "metadata": {},
     "output_type": "execute_result"
    }
   ],
   "source": [
    "re.findall(r'\\Batrix',quote)"
   ]
  },
  {
   "cell_type": "code",
   "execution_count": null,
   "id": "45df000c",
   "metadata": {},
   "outputs": [],
   "source": []
  },
  {
   "cell_type": "code",
   "execution_count": null,
   "id": "d1459742",
   "metadata": {},
   "outputs": [],
   "source": []
  },
  {
   "cell_type": "code",
   "execution_count": null,
   "id": "57d8886c",
   "metadata": {},
   "outputs": [],
   "source": []
  },
  {
   "cell_type": "code",
   "execution_count": null,
   "id": "831e360a",
   "metadata": {},
   "outputs": [],
   "source": []
  },
  {
   "cell_type": "code",
   "execution_count": null,
   "id": "dcfceac6",
   "metadata": {},
   "outputs": [],
   "source": []
  },
  {
   "cell_type": "code",
   "execution_count": null,
   "id": "5bf10ac5",
   "metadata": {},
   "outputs": [],
   "source": []
  },
  {
   "cell_type": "code",
   "execution_count": null,
   "id": "5cd8ea75",
   "metadata": {},
   "outputs": [],
   "source": []
  },
  {
   "cell_type": "code",
   "execution_count": null,
   "id": "b0f6d53d",
   "metadata": {},
   "outputs": [],
   "source": []
  },
  {
   "cell_type": "code",
   "execution_count": null,
   "id": "208b7e33",
   "metadata": {},
   "outputs": [],
   "source": []
  },
  {
   "cell_type": "code",
   "execution_count": null,
   "id": "a8be672d",
   "metadata": {},
   "outputs": [],
   "source": []
  },
  {
   "cell_type": "code",
   "execution_count": null,
   "id": "775c122e",
   "metadata": {},
   "outputs": [],
   "source": []
  },
  {
   "cell_type": "code",
   "execution_count": null,
   "id": "51d3fbf6",
   "metadata": {},
   "outputs": [],
   "source": []
  },
  {
   "cell_type": "code",
   "execution_count": null,
   "id": "840fa281",
   "metadata": {},
   "outputs": [],
   "source": []
  },
  {
   "cell_type": "code",
   "execution_count": null,
   "id": "e0b6a8aa",
   "metadata": {},
   "outputs": [],
   "source": []
  },
  {
   "cell_type": "code",
   "execution_count": null,
   "id": "4f900260",
   "metadata": {},
   "outputs": [],
   "source": []
  },
  {
   "cell_type": "code",
   "execution_count": null,
   "id": "dc661139",
   "metadata": {},
   "outputs": [],
   "source": []
  },
  {
   "cell_type": "code",
   "execution_count": null,
   "id": "af446ebb",
   "metadata": {},
   "outputs": [],
   "source": []
  },
  {
   "cell_type": "code",
   "execution_count": null,
   "id": "50099f22",
   "metadata": {},
   "outputs": [],
   "source": []
  }
 ],
 "metadata": {
  "kernelspec": {
   "display_name": "Python 3 (ipykernel)",
   "language": "python",
   "name": "python3"
  },
  "language_info": {
   "codemirror_mode": {
    "name": "ipython",
    "version": 3
   },
   "file_extension": ".py",
   "mimetype": "text/x-python",
   "name": "python",
   "nbconvert_exporter": "python",
   "pygments_lexer": "ipython3",
   "version": "3.13.5"
  }
 },
 "nbformat": 4,
 "nbformat_minor": 5
}
